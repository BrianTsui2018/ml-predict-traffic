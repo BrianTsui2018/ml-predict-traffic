{
 "cells": [
  {
   "cell_type": "markdown",
   "metadata": {},
   "source": [
    "# Machine Learning Project\n",
    "\n",
    "## Predict traffic volume\n",
    "\n",
    "Using the \"Metro Interstate Traffic Volume\" public dataset from the UCI repository (source: http://archive.ics.uci.edu/ml/datasets/Metro+Interstate+Traffic+Volume)\n",
    "\n",
    "This data contains 48204 instances of hourly interstate 94 Westbound traffic volume for MN DoT ATR station 301, roughly midway between Minneapolis and St Paul, MN. Hourly weather features and holidays included for impacts on traffic volume. Attributes include:\n",
    "\n",
    "   1. Holiday (holiday): Categorical US National holidays plus regional holiday, Minnesota State Fair (nominal)  \n",
    "   2. Temperature (temp): Numeric Average in kelvin (numerical)\n",
    "   3. Rain (rain_1h): Numeric Amount in mm of rain that occurred in the hour (numerical)\n",
    "   4. Snow (snow_1h): Numeric Amount in mm of snow that occurred in the hour (numerical)\n",
    "   5. Clouds (clouds_all): Numeric Percentage of cloud cover (numerical)\n",
    "   6. Weather Main: weather_main Categorical Short textual description of the current weather (ordinal)\n",
    "   7. Weather Description (weather_description): Categorical Longer textual description of the current weather (ordinal)\n",
    "   8. Date & Time (date_time): DateTime Hour of the data collected in local CST time\n",
    "   9. Traffic Volume (traffic_volume) Numeric Hourly I-94 ATR 301 reported westbound traffic volume\n",
    "\n",
    "   \n",
    "The Holiday attribute needs to be polished. In the dataset, only at 0:00:00 row of the holiday is labelled. Holiday should be effective through out the 24 rows, adjustment is required.\n",
    "\n",
    "\"Weather Main\" and \"Weather Description\" are highly similar, it appears that the latter breaks the weather data into more specific classes, which I believe is more than sufficient in this usage, hence the column will be dropped.\n",
    "\n",
    "\n",
    "\n",
    "\n",
    "## Scope of Project\n",
    "\n",
    "Practice applying several different supervised machine learning techniques to this data set, and see which one yields the highest accuracy as measured with K-Fold cross validation (K=10). Apply:\n",
    "\n",
    "* Decision tree\n",
    "* Random forest\n",
    "* KNN\n",
    "* Naive Bayes\n",
    "* SVM\n",
    "* Logistic Regression\n",
    "* a neural network using Keras."
   ]
  },
  {
   "cell_type": "markdown",
   "metadata": {},
   "source": [
    "## Data preparation\n",
    "\n",
    "Start by importing the dataset file into a Pandas dataframe.\n"
   ]
  },
  {
   "cell_type": "code",
   "execution_count": 1,
   "metadata": {},
   "outputs": [
    {
     "data": {
      "text/html": [
       "<div>\n",
       "<style scoped>\n",
       "    .dataframe tbody tr th:only-of-type {\n",
       "        vertical-align: middle;\n",
       "    }\n",
       "\n",
       "    .dataframe tbody tr th {\n",
       "        vertical-align: top;\n",
       "    }\n",
       "\n",
       "    .dataframe thead th {\n",
       "        text-align: right;\n",
       "    }\n",
       "</style>\n",
       "<table border=\"1\" class=\"dataframe\">\n",
       "  <thead>\n",
       "    <tr style=\"text-align: right;\">\n",
       "      <th></th>\n",
       "      <th>holiday</th>\n",
       "      <th>temp</th>\n",
       "      <th>rain_1h</th>\n",
       "      <th>snow_1h</th>\n",
       "      <th>clouds_all</th>\n",
       "      <th>weather_main</th>\n",
       "      <th>weather_description</th>\n",
       "      <th>date_time</th>\n",
       "      <th>traffic_volume</th>\n",
       "    </tr>\n",
       "  </thead>\n",
       "  <tbody>\n",
       "    <tr>\n",
       "      <th>0</th>\n",
       "      <td>None</td>\n",
       "      <td>288.28</td>\n",
       "      <td>0.0</td>\n",
       "      <td>0.0</td>\n",
       "      <td>40</td>\n",
       "      <td>Clouds</td>\n",
       "      <td>scattered clouds</td>\n",
       "      <td>2012-10-02 09:00:00</td>\n",
       "      <td>5545</td>\n",
       "    </tr>\n",
       "    <tr>\n",
       "      <th>1</th>\n",
       "      <td>None</td>\n",
       "      <td>289.36</td>\n",
       "      <td>0.0</td>\n",
       "      <td>0.0</td>\n",
       "      <td>75</td>\n",
       "      <td>Clouds</td>\n",
       "      <td>broken clouds</td>\n",
       "      <td>2012-10-02 10:00:00</td>\n",
       "      <td>4516</td>\n",
       "    </tr>\n",
       "    <tr>\n",
       "      <th>2</th>\n",
       "      <td>None</td>\n",
       "      <td>289.58</td>\n",
       "      <td>0.0</td>\n",
       "      <td>0.0</td>\n",
       "      <td>90</td>\n",
       "      <td>Clouds</td>\n",
       "      <td>overcast clouds</td>\n",
       "      <td>2012-10-02 11:00:00</td>\n",
       "      <td>4767</td>\n",
       "    </tr>\n",
       "    <tr>\n",
       "      <th>3</th>\n",
       "      <td>None</td>\n",
       "      <td>290.13</td>\n",
       "      <td>0.0</td>\n",
       "      <td>0.0</td>\n",
       "      <td>90</td>\n",
       "      <td>Clouds</td>\n",
       "      <td>overcast clouds</td>\n",
       "      <td>2012-10-02 12:00:00</td>\n",
       "      <td>5026</td>\n",
       "    </tr>\n",
       "    <tr>\n",
       "      <th>4</th>\n",
       "      <td>None</td>\n",
       "      <td>291.14</td>\n",
       "      <td>0.0</td>\n",
       "      <td>0.0</td>\n",
       "      <td>75</td>\n",
       "      <td>Clouds</td>\n",
       "      <td>broken clouds</td>\n",
       "      <td>2012-10-02 13:00:00</td>\n",
       "      <td>4918</td>\n",
       "    </tr>\n",
       "    <tr>\n",
       "      <th>5</th>\n",
       "      <td>None</td>\n",
       "      <td>291.72</td>\n",
       "      <td>0.0</td>\n",
       "      <td>0.0</td>\n",
       "      <td>1</td>\n",
       "      <td>Clear</td>\n",
       "      <td>sky is clear</td>\n",
       "      <td>2012-10-02 14:00:00</td>\n",
       "      <td>5181</td>\n",
       "    </tr>\n",
       "    <tr>\n",
       "      <th>6</th>\n",
       "      <td>None</td>\n",
       "      <td>293.17</td>\n",
       "      <td>0.0</td>\n",
       "      <td>0.0</td>\n",
       "      <td>1</td>\n",
       "      <td>Clear</td>\n",
       "      <td>sky is clear</td>\n",
       "      <td>2012-10-02 15:00:00</td>\n",
       "      <td>5584</td>\n",
       "    </tr>\n",
       "    <tr>\n",
       "      <th>7</th>\n",
       "      <td>None</td>\n",
       "      <td>293.86</td>\n",
       "      <td>0.0</td>\n",
       "      <td>0.0</td>\n",
       "      <td>1</td>\n",
       "      <td>Clear</td>\n",
       "      <td>sky is clear</td>\n",
       "      <td>2012-10-02 16:00:00</td>\n",
       "      <td>6015</td>\n",
       "    </tr>\n",
       "    <tr>\n",
       "      <th>8</th>\n",
       "      <td>None</td>\n",
       "      <td>294.14</td>\n",
       "      <td>0.0</td>\n",
       "      <td>0.0</td>\n",
       "      <td>20</td>\n",
       "      <td>Clouds</td>\n",
       "      <td>few clouds</td>\n",
       "      <td>2012-10-02 17:00:00</td>\n",
       "      <td>5791</td>\n",
       "    </tr>\n",
       "    <tr>\n",
       "      <th>9</th>\n",
       "      <td>None</td>\n",
       "      <td>293.10</td>\n",
       "      <td>0.0</td>\n",
       "      <td>0.0</td>\n",
       "      <td>20</td>\n",
       "      <td>Clouds</td>\n",
       "      <td>few clouds</td>\n",
       "      <td>2012-10-02 18:00:00</td>\n",
       "      <td>4770</td>\n",
       "    </tr>\n",
       "  </tbody>\n",
       "</table>\n",
       "</div>"
      ],
      "text/plain": [
       "  holiday    temp  rain_1h  snow_1h  clouds_all weather_main  \\\n",
       "0    None  288.28      0.0      0.0          40       Clouds   \n",
       "1    None  289.36      0.0      0.0          75       Clouds   \n",
       "2    None  289.58      0.0      0.0          90       Clouds   \n",
       "3    None  290.13      0.0      0.0          90       Clouds   \n",
       "4    None  291.14      0.0      0.0          75       Clouds   \n",
       "5    None  291.72      0.0      0.0           1        Clear   \n",
       "6    None  293.17      0.0      0.0           1        Clear   \n",
       "7    None  293.86      0.0      0.0           1        Clear   \n",
       "8    None  294.14      0.0      0.0          20       Clouds   \n",
       "9    None  293.10      0.0      0.0          20       Clouds   \n",
       "\n",
       "  weather_description            date_time  traffic_volume  \n",
       "0    scattered clouds  2012-10-02 09:00:00            5545  \n",
       "1       broken clouds  2012-10-02 10:00:00            4516  \n",
       "2     overcast clouds  2012-10-02 11:00:00            4767  \n",
       "3     overcast clouds  2012-10-02 12:00:00            5026  \n",
       "4       broken clouds  2012-10-02 13:00:00            4918  \n",
       "5        sky is clear  2012-10-02 14:00:00            5181  \n",
       "6        sky is clear  2012-10-02 15:00:00            5584  \n",
       "7        sky is clear  2012-10-02 16:00:00            6015  \n",
       "8          few clouds  2012-10-02 17:00:00            5791  \n",
       "9          few clouds  2012-10-02 18:00:00            4770  "
      ]
     },
     "execution_count": 1,
     "metadata": {},
     "output_type": "execute_result"
    }
   ],
   "source": [
    "%matplotlib inline\n",
    "import numpy as np\n",
    "import pandas as pd\n",
    "\n",
    "#Read data file\n",
    "df = pd.read_csv(\"Metro_Interstate_Traffic_Volume.csv\")\n",
    "df.head(10)"
   ]
  },
  {
   "cell_type": "markdown",
   "metadata": {},
   "source": [
    "#### \"Holiday\" and \"Date_time\" column are not ready\n",
    "\n",
    "Note that the data type of 'date_time' is a Pandas 'series' class, which is not ideal to work with."
   ]
  },
  {
   "cell_type": "code",
   "execution_count": 2,
   "metadata": {},
   "outputs": [
    {
     "name": "stdout",
     "output_type": "stream",
     "text": [
      "<class 'pandas.core.series.Series'>\n"
     ]
    }
   ],
   "source": [
    "print(type(df['date_time']))"
   ]
  },
  {
   "cell_type": "markdown",
   "metadata": {},
   "source": [
    "Let's expand the date_time string into timestamp format, and store the individual date and time components into the dateset.\n",
    "\n",
    "While we loop through the data to do so, convert the holiday from string to index (integer).\n",
    "\n",
    "The nominal references are stored in a dictionary (with unique entries)."
   ]
  },
  {
   "cell_type": "code",
   "execution_count": 3,
   "metadata": {
    "scrolled": false
   },
   "outputs": [
    {
     "name": "stdout",
     "output_type": "stream",
     "text": [
      "----- Converting Holiday name strings to index integer... ---------- \n",
      "Columbus Day -> 1  :  2012-10-08 00:00:00\n",
      "Veterans Day -> 2  :  2012-11-12 00:00:00\n",
      "Thanksgiving Day -> 3  :  2012-11-22 00:00:00\n",
      "Christmas Day -> 4  :  2012-12-25 00:00:00\n",
      "New Years Day -> 5  :  2013-01-01 00:00:00\n",
      "Washingtons Birthday -> 6  :  2013-02-18 00:00:00\n",
      "Memorial Day -> 7  :  2013-05-27 00:00:00\n",
      "Independence Day -> 8  :  2013-07-04 00:00:00\n",
      "State Fair -> 9  :  2013-08-22 00:00:00\n",
      "Labor Day -> 10  :  2013-09-02 00:00:00\n",
      "Columbus Day -> 1  :  2013-10-14 00:00:00\n",
      "Veterans Day -> 2  :  2013-11-11 00:00:00\n",
      "Thanksgiving Day -> 3  :  2013-11-28 00:00:00\n",
      "Christmas Day -> 4  :  2013-12-25 00:00:00\n",
      "New Years Day -> 5  :  2014-01-01 00:00:00\n",
      "Martin Luther King Jr Day -> 11  :  2014-01-20 00:00:00\n",
      "Washingtons Birthday -> 6  :  2014-02-17 00:00:00\n",
      "Memorial Day -> 7  :  2014-05-26 00:00:00\n",
      "Independence Day -> 8  :  2015-07-03 00:00:00\n",
      "State Fair -> 9  :  2015-08-27 00:00:00\n",
      "Labor Day -> 10  :  2015-09-07 00:00:00\n",
      "Columbus Day -> 1  :  2015-10-12 00:00:00\n",
      "Veterans Day -> 2  :  2015-11-11 00:00:00\n",
      "Thanksgiving Day -> 3  :  2015-11-26 00:00:00\n",
      "Thanksgiving Day -> 3  :  2015-11-26 00:00:00\n",
      "Christmas Day -> 4  :  2015-12-25 00:00:00\n",
      "New Years Day -> 5  :  2016-01-01 00:00:00\n",
      "New Years Day -> 5  :  2016-01-01 00:00:00\n",
      "Washingtons Birthday -> 6  :  2016-02-15 00:00:00\n",
      "Memorial Day -> 7  :  2016-05-30 00:00:00\n",
      "Independence Day -> 8  :  2016-07-04 00:00:00\n",
      "State Fair -> 9  :  2016-08-25 00:00:00\n",
      "Labor Day -> 10  :  2016-09-05 00:00:00\n",
      "Labor Day -> 10  :  2016-09-05 00:00:00\n",
      "Columbus Day -> 1  :  2016-10-10 00:00:00\n",
      "Veterans Day -> 2  :  2016-11-11 00:00:00\n",
      "Thanksgiving Day -> 3  :  2016-11-24 00:00:00\n",
      "Christmas Day -> 4  :  2016-12-26 00:00:00\n",
      "Christmas Day -> 4  :  2016-12-26 00:00:00\n",
      "New Years Day -> 5  :  2017-01-02 00:00:00\n",
      "Martin Luther King Jr Day -> 11  :  2017-01-16 00:00:00\n",
      "Martin Luther King Jr Day -> 11  :  2017-01-16 00:00:00\n",
      "Washingtons Birthday -> 6  :  2017-02-20 00:00:00\n",
      "Memorial Day -> 7  :  2017-05-29 00:00:00\n",
      "Independence Day -> 8  :  2017-07-04 00:00:00\n",
      "State Fair -> 9  :  2017-08-24 00:00:00\n",
      "Labor Day -> 10  :  2017-09-04 00:00:00\n",
      "Columbus Day -> 1  :  2017-10-09 00:00:00\n",
      "Veterans Day -> 2  :  2017-11-10 00:00:00\n",
      "Thanksgiving Day -> 3  :  2017-11-23 00:00:00\n",
      "Christmas Day -> 4  :  2017-12-25 00:00:00\n",
      "New Years Day -> 5  :  2018-01-01 00:00:00\n",
      "Martin Luther King Jr Day -> 11  :  2018-01-15 00:00:00\n",
      "Martin Luther King Jr Day -> 11  :  2018-01-15 00:00:00\n",
      "Martin Luther King Jr Day -> 11  :  2018-01-15 00:00:00\n",
      "Washingtons Birthday -> 6  :  2018-02-19 00:00:00\n",
      "Memorial Day -> 7  :  2018-05-28 00:00:00\n",
      "Independence Day -> 8  :  2018-07-04 00:00:00\n",
      "State Fair -> 9  :  2018-08-23 00:00:00\n",
      "Labor Day -> 10  :  2018-09-03 00:00:00\n",
      "Labor Day -> 10  :  2018-09-03 00:00:00\n",
      "----- ... Done ----- \n"
     ]
    }
   ],
   "source": [
    "import datetime\n",
    "\n",
    "# Make a unique dictionary\n",
    "holiday_dict = {}\n",
    "\n",
    "# n is a counting variable to stores the last new index\n",
    "n = 1\n",
    "# holiday_idx is the actual index variable for a holiday, new or reoccurring\n",
    "holiday_idx = 0\n",
    "\n",
    "# Loop through the data and modify\n",
    "print(\"----- Converting Holiday name strings to index integer... ---------- \")\n",
    "for x,y in df.iterrows():\n",
    "    # Convert string date_time into a timestamp data\n",
    "    now = datetime.datetime.strptime(y['date_time'], '%Y-%m-%d %H:%M:%S')\n",
    "    \n",
    "    # append time data column to the dataframe\n",
    "    df.at[x, 'year'] = now.year\n",
    "    df.at[x, 'month'] = now.month\n",
    "    df.at[x, 'day'] = now.day\n",
    "    df.at[x, 'hour'] = now.hour\n",
    "    \n",
    "    # if this row has not been converted to index\n",
    "    if(type(df.at[x,'holiday']) != int):\n",
    "        # get the string\n",
    "        holiday_str = y['holiday']\n",
    "        \n",
    "        # if this row is at mid-night\n",
    "        if(now.hour == 0):\n",
    "            # this row should decide for following rows, for the rest of the day\n",
    "            # if today is not a hoilday\n",
    "            if(holiday_str == 'None'):\n",
    "                # index should be zero\n",
    "                holiday_idx = 0 \n",
    "            # otherwise if today is a holiday\n",
    "            else:\n",
    "                # do different things depending on whether this holiday \n",
    "                # is already in the dictionary or not\n",
    "                # if this holiday is not in data yet\n",
    "                if holiday_str not in holiday_dict.keys():\n",
    "                    # add to the dictionary\n",
    "                    holiday_dict[holiday_str] = n\n",
    "                    # pass the new index value for later to assign\n",
    "                    holiday_idx = n\n",
    "                    # increase the last new index count\n",
    "                    n += 1\n",
    "                    \n",
    "                # if this holiday is already in data    \n",
    "                else:\n",
    "                    holiday_idx = holiday_dict[holiday_str];\n",
    "                \n",
    "                # this is a convertion that just happened, print to confirm\n",
    "                print(y['holiday'], \"->\", holiday_idx, \" : \", y['date_time'])\n",
    "\n",
    "        # Update the holiday column data with \"today\"'s holiday index\n",
    "        # recall that holiday_idx by default is 0 (\"None\")\n",
    "        # every mid-night from the loop above would update \"today\"'s holiday index\n",
    "        df.at[x, 'holiday'] = np.float64(holiday_idx)\n",
    "        \n",
    "        \n",
    "\n",
    "df['year'] = df['year'].astype(np.int64)\n",
    "df['month'] = df['month'].astype(np.int64)\n",
    "df['day'] = df['day'].astype(np.int64)\n",
    "df['hour'] = df['hour'].astype(np.int64)\n",
    "        \n",
    "print(\"----- ... Done ----- \")"
   ]
  },
  {
   "cell_type": "markdown",
   "metadata": {},
   "source": [
    "Notice that some entries have duplicate date time. It is uncertain whether those rows are duplicate entries (with other columns having various data) or only the timestamp is incorrect. Some hours are missing, too. However, for now let's proceed without making any counter measure to those error.\n",
    "\n",
    "Now apply the same index conversion to the \"weather_main\" column."
   ]
  },
  {
   "cell_type": "code",
   "execution_count": 4,
   "metadata": {},
   "outputs": [
    {
     "name": "stdout",
     "output_type": "stream",
     "text": [
      "----- Converting Weather strings to index integer... ---------- \n",
      "Clouds -> 1  :  2012-10-02 09:00:00\n",
      "Rain -> 2  :  2012-10-09 15:00:00\n",
      "Drizzle -> 3  :  2012-10-10 07:00:00\n",
      "Mist -> 4  :  2012-10-14 08:00:00\n",
      "Haze -> 5  :  2012-10-14 09:00:00\n",
      "Fog -> 6  :  2012-10-14 23:00:00\n",
      "Thunderstorm -> 7  :  2012-10-23 15:00:00\n",
      "Snow -> 8  :  2012-10-26 09:00:00\n",
      "Squall -> 9  :  2013-05-12 02:00:00\n",
      "Smoke -> 10  :  2015-07-06 13:00:00\n",
      "----- ... Done ----- \n"
     ]
    }
   ],
   "source": [
    "# Make a unique dictionary\n",
    "weather_dict = {}\n",
    "\n",
    "# n is a counting variable to stores the last new index\n",
    "n = 1\n",
    "# weather_idx is the actual index variable for a weather condition, new or reoccurring\n",
    "weather_idx = 0\n",
    "\n",
    "# Loop through the data and modify\n",
    "print(\"----- Converting Weather strings to index integer... ---------- \")\n",
    "for x,y in df.iterrows():\n",
    "  \n",
    " \n",
    "    # if this row has not been converted to index\n",
    "    if(type(df.at[x,'weather_main']) != int):\n",
    "        # get the string\n",
    "        weather_str = y['weather_main']\n",
    "        \n",
    "      \n",
    "        # if weather is clear\n",
    "        if(weather_str == 'Clear'):\n",
    "            # index should be zero\n",
    "            weather_idx = 0 \n",
    "        # otherwise \n",
    "        else:\n",
    "            # do different things depending on whether this weather condition \n",
    "            # is already in the dictionary or not\n",
    "            # if this weather condition is not in data yet\n",
    "            if weather_str not in weather_dict.keys():\n",
    "                # add to the dictionary\n",
    "                weather_dict[weather_str] = n\n",
    "                # pass the new index value for later to assign\n",
    "                weather_idx = n\n",
    "                # increase the last new index count\n",
    "                n += 1\n",
    "                # this is a new condition that was added to the record, print to confirm\n",
    "                print(y['weather_main'], \"->\", weather_idx, \" : \", y['date_time'])\n",
    "                \n",
    "            # if this weather is already in data    \n",
    "            else:\n",
    "                weather_idx = weather_dict[weather_str];\n",
    "\n",
    "            \n",
    "\n",
    "        # Update the weather column data with the current weather index\n",
    "        # recall that weather_idx by default is 0 (\"Clear\")\n",
    "        # every hour would update\n",
    "        df.at[x, 'weather_main'] = np.float64(weather_idx)\n",
    "        \n",
    "        \n",
    "\n",
    "\n",
    "print(\"----- ... Done ----- \")"
   ]
  },
  {
   "cell_type": "markdown",
   "metadata": {},
   "source": [
    "Take a look at the brief summary of our data. "
   ]
  },
  {
   "cell_type": "code",
   "execution_count": 5,
   "metadata": {},
   "outputs": [
    {
     "name": "stdout",
     "output_type": "stream",
     "text": [
      "               temp       rain_1h       snow_1h    clouds_all  traffic_volume  \\\n",
      "count  48204.000000  48204.000000  48204.000000  48204.000000    48204.000000   \n",
      "mean     281.205870      0.334264      0.000222     49.362231     3259.818355   \n",
      "std       13.338232     44.789133      0.008168     39.015750     1986.860670   \n",
      "min        0.000000      0.000000      0.000000      0.000000        0.000000   \n",
      "25%      272.160000      0.000000      0.000000      1.000000     1193.000000   \n",
      "50%      282.450000      0.000000      0.000000     64.000000     3380.000000   \n",
      "75%      291.806000      0.000000      0.000000     90.000000     4933.000000   \n",
      "max      310.070000   9831.300000      0.510000    100.000000     7280.000000   \n",
      "\n",
      "               year         month           day          hour  \n",
      "count  48204.000000  48204.000000  48204.000000  48204.000000  \n",
      "mean    2015.512426      6.506037     15.737636     11.398162  \n",
      "std        1.893211      3.400221      8.722938      6.940238  \n",
      "min     2012.000000      1.000000      1.000000      0.000000  \n",
      "25%     2014.000000      4.000000      8.000000      5.000000  \n",
      "50%     2016.000000      7.000000     16.000000     11.000000  \n",
      "75%     2017.000000      9.000000     23.000000     17.000000  \n",
      "max     2018.000000     12.000000     31.000000     23.000000  \n"
     ]
    }
   ],
   "source": [
    "df_des = df.describe()\n",
    "print(df_des)"
   ]
  },
  {
   "cell_type": "markdown",
   "metadata": {},
   "source": [
    "It appears that the count is equal for all columns, likely no missing data exist. But in the case where it does, the following code would drop all the rows with NaN."
   ]
  },
  {
   "cell_type": "code",
   "execution_count": 6,
   "metadata": {},
   "outputs": [],
   "source": [
    "# drop all NaN rows\n",
    "df = df.dropna()"
   ]
  },
  {
   "cell_type": "markdown",
   "metadata": {},
   "source": [
    "In the case of the dataset file containing other specific marking as null indicator, then use the following code to load the data again, where, in this example, converts all \"?\" cells to NaN.  "
   ]
  },
  {
   "cell_type": "code",
   "execution_count": 24,
   "metadata": {},
   "outputs": [],
   "source": [
    "df = pd.read_csv(\"Metro_Interstate_Traffic_Volume.csv\", na_values = \"?\", na_filter = True)"
   ]
  },
  {
   "cell_type": "markdown",
   "metadata": {},
   "source": [
    "Next, there seems to be some errornous data to take care of.\n",
    "\n",
    "Temperature for example, the first clue is that there a min value of \"0\". That is -273 in Celcius, or -456 in Fahrenheit, which does not sound reasonable. \n",
    "\n",
    "For a further investigation, we can check with the historgram plot."
   ]
  },
  {
   "cell_type": "code",
   "execution_count": 6,
   "metadata": {},
   "outputs": [
    {
     "data": {
      "image/png": "[encoded data removed]",
      "text/plain": [
       "<Figure size 432x288 with 1 Axes>"
      ]
     },
     "metadata": {
      "needs_background": "light"
     },
     "output_type": "display_data"
    }
   ],
   "source": [
    "import matplotlib.pyplot as plt\n",
    "col = df['temp']\n",
    "plt.hist(df['temp'],100)\n",
    "plt.show()"
   ]
  },
  {
   "cell_type": "markdown",
   "metadata": {},
   "source": [
    "We can see better if the plot exclude a certain out-ranged data. The following is a code that generally works for excluding outliers for plotting:"
   ]
  },
  {
   "cell_type": "code",
   "execution_count": 7,
   "metadata": {},
   "outputs": [],
   "source": [
    "# Take in data column and returns out that filters out +/- 4 deviation (unless give specific upper and lower bound)\n",
    "def reject_outliers(data_col, lower_bound = 0, upper_bound = 0):\n",
    "    u = np.nanmedian(data_col)\n",
    "    s = np.std(data_col)\n",
    "    if not lower_bound:\n",
    "        lower_bound = u - 4 * s     \n",
    "    if not upper_bound:\n",
    "        upper_bound = u + 4 * s\n",
    "        \n",
    "    filtered = [e for e in data_col if (lower_bound < e < upper_bound)]\n",
    "    \n",
    "    return filtered"
   ]
  },
  {
   "cell_type": "markdown",
   "metadata": {},
   "source": [
    "Let's check the plot again..."
   ]
  },
  {
   "cell_type": "code",
   "execution_count": 8,
   "metadata": {},
   "outputs": [
    {
     "data": {
      "image/png": "[encoded data removed]",
      "text/plain": [
       "<Figure size 432x288 with 1 Axes>"
      ]
     },
     "metadata": {
      "needs_background": "light"
     },
     "output_type": "display_data"
    }
   ],
   "source": [
    "filtered_col = reject_outliers(col)\n",
    "\n",
    "plt.hist(filtered_col, 50)\n",
    "plt.show()"
   ]
  },
  {
   "cell_type": "markdown",
   "metadata": {},
   "source": [
    "Here we clearly see the outlier entry has been skewing the dataset. Such data should be excluded. \n",
    "\n",
    "Before we apply modification to the temperature column, let's also check other numeric data for outliers.\n",
    "\n",
    "Rain has an unsual max value, so let's take a close look."
   ]
  },
  {
   "cell_type": "code",
   "execution_count": 9,
   "metadata": {},
   "outputs": [
    {
     "data": {
      "image/png": "[encoded data removed]",
      "text/plain": [
       "<Figure size 432x288 with 1 Axes>"
      ]
     },
     "metadata": {
      "needs_background": "light"
     },
     "output_type": "display_data"
    }
   ],
   "source": [
    "col = df['rain_1h']\n",
    "plt.hist(col,10)\n",
    "plt.show()"
   ]
  },
  {
   "cell_type": "markdown",
   "metadata": {},
   "source": [
    "Sure enough, there is some strong outlier stretching mean. \n",
    "\n",
    "9000 mm per hour is unrealistic. Extreme weather in the U.S can possibly go up to 1800 per hour (https://www.cnn.com/travel/article/extreme-weather-records/index.html), but according to Wikipedia, a \"Violent Rain\" is \">50 mm per hour\" (https://en.wikipedia.org/wiki/Rain). In our dataset, other 2nd greatest rain in record is 55 mm.\n",
    "\n",
    "With the outlier data pulling up the standard deviation of the column, we cannot simply rely on the filtering function's standard filtering (because std = 44).   \n",
    "\n",
    "We can constrain with a reasonable range of 0.00 to 60.00."
   ]
  },
  {
   "cell_type": "code",
   "execution_count": 10,
   "metadata": {},
   "outputs": [
    {
     "data": {
      "image/png": "[encoded data removed]",
      "text/plain": [
       "<Figure size 432x288 with 1 Axes>"
      ]
     },
     "metadata": {
      "needs_background": "light"
     },
     "output_type": "display_data"
    }
   ],
   "source": [
    "filtered_col = reject_outliers(col,0,60)\n",
    "\n",
    "plt.hist(filtered_col,10)\n",
    "plt.show()"
   ]
  },
  {
   "cell_type": "markdown",
   "metadata": {},
   "source": [
    "Cannot see the data clearly, since the majority of data are clustered between 0 to 5. However, the errorouns data is certainly discarded here.\n",
    "\n",
    "Although rain and snow columns still have rare and extreme cases being the \"outlier\", these data are meaningful. Traffic volume may response significantly to these rare cases. If this ML product is to be developed into an anomaly detection, these outlier data should be evaluated (assuming this does not cause problem to the learning models).\n",
    "\n",
    "Other numeric columns seems fine. Now we actually remove those rows from the dataset."
   ]
  },
  {
   "cell_type": "code",
   "execution_count": 11,
   "metadata": {},
   "outputs": [],
   "source": [
    "df = df.drop(df[(df.temp < 220)].index)\n",
    "df = df.drop(df[df.rain_1h > 60].index)"
   ]
  },
  {
   "cell_type": "code",
   "execution_count": 12,
   "metadata": {},
   "outputs": [
    {
     "name": "stdout",
     "output_type": "stream",
     "text": [
      "               temp       rain_1h       snow_1h    clouds_all  traffic_volume  \\\n",
      "count  48193.000000  48193.000000  48193.000000  48193.000000    48193.000000   \n",
      "mean     281.263786      0.130342      0.000222     49.371942     3260.174029   \n",
      "std       12.709364      1.003480      0.008169     39.013548     1986.754010   \n",
      "min      243.390000      0.000000      0.000000      0.000000        0.000000   \n",
      "25%      272.180000      0.000000      0.000000      1.000000     1194.000000   \n",
      "50%      282.460000      0.000000      0.000000     64.000000     3380.000000   \n",
      "75%      291.810000      0.000000      0.000000     90.000000     4933.000000   \n",
      "max      310.070000     55.630000      0.510000    100.000000     7280.000000   \n",
      "\n",
      "               year         month           day          hour  \n",
      "count  48193.000000  48193.000000  48193.000000  48193.000000  \n",
      "mean    2015.512730      6.507045     15.738178     11.399353  \n",
      "std        1.893301      3.399867      8.721451      6.940353  \n",
      "min     2012.000000      1.000000      1.000000      0.000000  \n",
      "25%     2014.000000      4.000000      8.000000      5.000000  \n",
      "50%     2016.000000      7.000000     16.000000     11.000000  \n",
      "75%     2017.000000      9.000000     23.000000     17.000000  \n",
      "max     2018.000000     12.000000     31.000000     23.000000  \n"
     ]
    }
   ],
   "source": [
    "df_des = df.describe()\n",
    "print(df_des)"
   ]
  },
  {
   "cell_type": "markdown",
   "metadata": {},
   "source": [
    "The data seems cleaned up now. Moving on...\n",
    "\n",
    "\n",
    "## Data Analysis / Discussion\n",
    "\n",
    "We have no clear idea how the features are influencing the traffic volume. \n",
    "\n",
    "Seaborn allows us to visualize data to understand what we're dealing with. \n",
    "\n",
    "For example, take a look at the relationship between temperature and traffic volume data."
   ]
  },
  {
   "cell_type": "code",
   "execution_count": 13,
   "metadata": {},
   "outputs": [
    {
     "data": {
      "text/plain": [
       "<seaborn.axisgrid.JointGrid at 0x1a0156a7be0>"
      ]
     },
     "execution_count": 13,
     "metadata": {},
     "output_type": "execute_result"
    },
    {
     "data": {
      "image/png": "[encoded data removed]",
      "text/plain": [
       "<Figure size 432x432 with 3 Axes>"
      ]
     },
     "metadata": {},
     "output_type": "display_data"
    }
   ],
   "source": [
    "import seaborn as sns\n",
    "sns.set()\n",
    "sns.jointplot(x=\"temp\", y=\"traffic_volume\", data=df)"
   ]
  },
  {
   "cell_type": "markdown",
   "metadata": {},
   "source": [
    "This does not seem useful at all. The data are rather evenly distributed. Does this imply that no matter how hot or cold the temperature is, that the traffic may vary between 0 to 7800 without bias? From real life observation, the answer is intuitively \"No\". So is there something wrong with the dataset?\n",
    "\n",
    "Now take a look at the relationship bewteen hour and traffic."
   ]
  },
  {
   "cell_type": "code",
   "execution_count": 14,
   "metadata": {},
   "outputs": [
    {
     "data": {
      "text/plain": [
       "<seaborn.axisgrid.JointGrid at 0x1a0190d3da0>"
      ]
     },
     "execution_count": 14,
     "metadata": {},
     "output_type": "execute_result"
    },
    {
     "data": {
      "image/png": "[encoded data removed]",
      "text/plain": [
       "<Figure size 432x432 with 3 Axes>"
      ]
     },
     "metadata": {},
     "output_type": "display_data"
    }
   ],
   "source": [
    "sns.set()\n",
    "sns.jointplot(x=\"hour\", y=\"traffic_volume\", data=df)"
   ]
  },
  {
   "cell_type": "markdown",
   "metadata": {},
   "source": [
    "What we see here is a general pattern that there are quiet hours and busy hours. \n",
    "\n",
    "Ofcourse, there are data showing that the hottest and the coldest days, there are late night hour blocks where traffic is very low, and also busy hours in the day. \n",
    "\n",
    "What if we only compare data from at 9:00 am rush hour?"
   ]
  },
  {
   "cell_type": "code",
   "execution_count": 15,
   "metadata": {},
   "outputs": [
    {
     "data": {
      "text/plain": [
       "<seaborn.axisgrid.JointGrid at 0x1a0192985c0>"
      ]
     },
     "execution_count": 15,
     "metadata": {},
     "output_type": "execute_result"
    },
    {
     "data": {
      "image/png": "[encoded data removed]",
      "text/plain": [
       "<Figure size 432x432 with 3 Axes>"
      ]
     },
     "metadata": {},
     "output_type": "display_data"
    }
   ],
   "source": [
    "df2 = df.where(df['hour'] == 9)\n",
    "sns.set()\n",
    "sns.jointplot(x=\"temp\", y=\"traffic_volume\", data=df2)"
   ]
  },
  {
   "cell_type": "markdown",
   "metadata": {},
   "source": [
    "Here we start to see some pattern, making the data meaningful.\n",
    "\n",
    "Note that this pattern reflects only at the 9 to 10 am block. We do not know and should not assume that all the other hour blocks have the same human behavior tendency towards temperature. \n",
    "\n",
    "Some of the other features are also only meaningful when comparing hour-to-hour. But how should we plug the hour factor into the dataset in order for the machine to learn properly? I have a few abstracts in mind, but I do not have the experience to tackle that problem. Hence, I will move on disregarding it. (Will come back to that in future)"
   ]
  },
  {
   "cell_type": "markdown",
   "metadata": {},
   "source": [
    "## Classification Problem\n",
    "\n",
    "Traffic volume is currently an integer value ranging from 0 to 7280. We do not need the machine to predict the exact traffic volume quantity, we just need to know if its clear, light, moderate, or heavy.  Hence, let's break down the traffic volume into 4 classes. The method I choose to classify is a simple method (dividing by 2000), but there are many other ways to classify the grades of traffic weight. "
   ]
  },
  {
   "cell_type": "code",
   "execution_count": 16,
   "metadata": {},
   "outputs": [
    {
     "name": "stdout",
     "output_type": "stream",
     "text": [
      "Done!\n"
     ]
    }
   ],
   "source": [
    "# Convert traffic volume into category 0, 1, 2, 3\n",
    "df['traffic_volume'] = np.divide(df['traffic_volume'], 2000)\n",
    "df['traffic_volume'] = df['traffic_volume'].astype('int64')\n",
    "print (\"Done!\")"
   ]
  },
  {
   "cell_type": "markdown",
   "metadata": {},
   "source": [
    "## Features and Targets data\n",
    "\n",
    "After cleaning up the rows, we can select only the columns that we do need as our feature set.\n",
    "\n",
    "Split the dataset into two, one is for the learning features (input), one is for the target variables (prediction outcome)."
   ]
  },
  {
   "cell_type": "code",
   "execution_count": 17,
   "metadata": {},
   "outputs": [
    {
     "name": "stdout",
     "output_type": "stream",
     "text": [
      "Features:\n",
      " ['holiday', 'temp', 'rain_1h', 'snow_1h', 'clouds_all', 'weather_main', 'hour']\n",
      "[[0.0 288.28 0.0 0.0 40 1.0 9]\n",
      " [0.0 289.36 0.0 0.0 75 1.0 10]\n",
      " [0.0 289.58 0.0 0.0 90 1.0 11]\n",
      " [0.0 290.13 0.0 0.0 90 1.0 12]\n",
      " [0.0 291.14 0.0 0.0 75 1.0 13]\n",
      " [0.0 291.72 0.0 0.0 1 0.0 14]\n",
      " [0.0 293.17 0.0 0.0 1 0.0 15]\n",
      " [0.0 293.86 0.0 0.0 1 0.0 16]\n",
      " [0.0 294.14 0.0 0.0 20 1.0 17]\n",
      " [0.0 293.1 0.0 0.0 20 1.0 18]]\n",
      "\n",
      "Targets:\n",
      "[traffic_volume]\n",
      "[2 2 2 2 2 2 2 3 2 2]\n"
     ]
    }
   ],
   "source": [
    "# A list of features (columns) from the dataset\n",
    "feature_list = ['holiday','temp', 'rain_1h', 'snow_1h', 'clouds_all', 'weather_main', 'hour']\n",
    "#feature_list = ['hour']\n",
    "\n",
    "# The ML will learn that these factors...\n",
    "features = df[feature_list].values\n",
    "print ('Features:\\n', feature_list)\n",
    "print (features[:10])\n",
    "\n",
    "# ... cause these outcomes\n",
    "targets = df['traffic_volume'].values \n",
    "print ('\\nTargets:\\n[traffic_volume]',)\n",
    "print (targets[:10])"
   ]
  },
  {
   "cell_type": "markdown",
   "metadata": {},
   "source": [
    "# Training Models\n",
    "\n",
    "Some of the models require the input data to be normalized. We will now normalize the attribute data, using preprocessing.StandardScaler()."
   ]
  },
  {
   "cell_type": "code",
   "execution_count": 18,
   "metadata": {},
   "outputs": [
    {
     "name": "stdout",
     "output_type": "stream",
     "text": [
      "Features:\n",
      " ['holiday', 'temp', 'rain_1h', 'snow_1h', 'clouds_all', 'weather_main', 'hour']\n",
      "[[-0.15913356  0.55205645 -0.12989104 -0.02723145 -0.24022525 -0.45678703\n",
      "  -0.34571406]\n",
      " [-0.15913356  0.63703405 -0.12989104 -0.02723145  0.65690832 -0.45678703\n",
      "  -0.20162767]\n",
      " [-0.15913356  0.6543443  -0.12989104 -0.02723145  1.04139413 -0.45678703\n",
      "  -0.05754128]\n",
      " [-0.15913356  0.69761993 -0.12989104 -0.02723145  1.04139413 -0.45678703\n",
      "   0.08654512]\n",
      " [-0.15913356  0.77708972 -0.12989104 -0.02723145  0.65690832 -0.45678703\n",
      "   0.23063151]\n",
      " [-0.15913356  0.82272583 -0.12989104 -0.02723145 -1.23988837 -0.89417899\n",
      "   0.37471791]\n",
      " [-0.15913356  0.93681613 -0.12989104 -0.02723145 -1.23988837 -0.89417899\n",
      "   0.5188043 ]\n",
      " [-0.15913356  0.99110737 -0.12989104 -0.02723145 -1.23988837 -0.89417899\n",
      "   0.66289069]\n",
      " [-0.15913356  1.0131386  -0.12989104 -0.02723145 -0.752873   -0.45678703\n",
      "   0.80697709]\n",
      " [-0.15913356  0.93130832 -0.12989104 -0.02723145 -0.752873   -0.45678703\n",
      "   0.95106348]]\n"
     ]
    }
   ],
   "source": [
    "from sklearn.preprocessing import StandardScaler\n",
    "\n",
    "# Scale the model with StandardScaler\n",
    "scaler = StandardScaler()\n",
    "\n",
    "# Check results\n",
    "scaled_features = scaler.fit_transform(features)\n",
    "print ('Features:\\n', feature_list)\n",
    "print(scaled_features[:10])"
   ]
  },
  {
   "cell_type": "markdown",
   "metadata": {},
   "source": [
    "## Split up Training and Testing data\n",
    "\n",
    "Before moving to K-Fold cross validation and random forests, start by creating a single train/test split of our data. Set aside 75% for training, and 25% for testing."
   ]
  },
  {
   "cell_type": "code",
   "execution_count": 19,
   "metadata": {},
   "outputs": [],
   "source": [
    "import numpy\n",
    "from sklearn.model_selection import train_test_split\n",
    "\n",
    "numpy.random.seed(54321)\n",
    "\n",
    "X_train, X_test, y_train, y_test = train_test_split(scaled_features, targets, train_size=0.75, random_state=77777)"
   ]
  },
  {
   "cell_type": "markdown",
   "metadata": {},
   "source": [
    "Now it is ready to fit the training data into various models."
   ]
  },
  {
   "cell_type": "code",
   "execution_count": 20,
   "metadata": {},
   "outputs": [],
   "source": [
    "# Scoreboard to keep track of each model's score\n",
    "score_dict = {}"
   ]
  },
  {
   "cell_type": "markdown",
   "metadata": {},
   "source": [
    "## Decision Tree"
   ]
  },
  {
   "cell_type": "code",
   "execution_count": 21,
   "metadata": {},
   "outputs": [
    {
     "name": "stdout",
     "output_type": "stream",
     "text": [
      "0.7713503195285916\n"
     ]
    }
   ],
   "source": [
    "from sklearn.tree import DecisionTreeClassifier\n",
    "clf = DecisionTreeClassifier(random_state=1)\n",
    "clf = clf.fit(X_train,y_train)\n",
    "\n",
    "score_dict['Tree Decision Classifier'] = clf.score(X_test, y_test)\n",
    "print (score_dict['Tree Decision Classifier'])"
   ]
  },
  {
   "cell_type": "markdown",
   "metadata": {},
   "source": [
    "Now instead of a single train/test split, use K-Fold cross validation to get a better measure of your model's accuracy (K=30). "
   ]
  },
  {
   "cell_type": "code",
   "execution_count": 22,
   "metadata": {},
   "outputs": [
    {
     "name": "stdout",
     "output_type": "stream",
     "text": [
      "[0.74689826 0.77915633 0.74937965 0.7369727  0.75434243 0.70471464\n",
      " 0.69727047 0.73449132 0.7146402  0.75682382 0.74689826 0.74193548\n",
      " 0.7617866  0.72952854 0.73945409 0.75124378 0.75621891 0.78054863\n",
      " 0.74314214 0.72319202 0.7755611  0.735      0.73       0.7375\n",
      " 0.75       0.75       0.73433584 0.78195489 0.71929825 0.73684211]\n",
      "0.7433043486168647\n"
     ]
    }
   ],
   "source": [
    "from sklearn.model_selection import cross_val_score\n",
    "# We give cross_val_score a model, the entire data set and its \"real\" values, and the number of folds:\n",
    "scores = cross_val_score(clf, X_test, y_test, cv=30)\n",
    "\n",
    "# Print the accuracy for each fold:\n",
    "print(scores)\n",
    "\n",
    "# And the mean accuracy of all 30 folds:\n",
    "print(scores.mean())\n",
    "\n",
    "score_dict['K-Fold Cross Validation'] = scores.mean()"
   ]
  },
  {
   "cell_type": "markdown",
   "metadata": {},
   "source": [
    "## Random Forest"
   ]
  },
  {
   "cell_type": "code",
   "execution_count": 23,
   "metadata": {},
   "outputs": [
    {
     "name": "stdout",
     "output_type": "stream",
     "text": [
      "Accuracy for each fold:\n",
      "[0.79156328 0.76426799 0.75682382 0.76674938 0.78411911 0.72456576\n",
      " 0.71712159 0.74193548 0.73449132 0.77419355 0.76923077 0.74441687\n",
      " 0.78411911 0.75930521 0.75186104 0.75124378 0.77860697 0.78054863\n",
      " 0.74314214 0.72069825 0.7755611  0.765      0.7475     0.7425\n",
      " 0.765      0.735      0.73433584 0.78446115 0.75689223 0.76190476]\n",
      "\n",
      "The mean accuracy of all 30 folds\n",
      "0.7569053041303139\n"
     ]
    }
   ],
   "source": [
    "from sklearn.ensemble import RandomForestClassifier\n",
    "\n",
    "clf2 = RandomForestClassifier(n_estimators=30)\n",
    "clf2 = clf2.fit(X_train,y_train)\n",
    "\n",
    "scores2 = cross_val_score(clf2, X_test, y_test, cv=30)\n",
    "\n",
    "# Print the accuracy for each fold:\n",
    "print('Accuracy for each fold:')\n",
    "print(scores2)\n",
    "\n",
    "# And the mean accuracy of all 30 folds:\n",
    "print('\\nThe mean accuracy of all 30 folds')\n",
    "print(scores2.mean())\n",
    "\n",
    "score_dict['Random Forest Classifier'] = scores2.mean()"
   ]
  },
  {
   "cell_type": "markdown",
   "metadata": {},
   "source": [
    "## SVM\n",
    "svm.SVC with a linear kernel"
   ]
  },
  {
   "cell_type": "code",
   "execution_count": 24,
   "metadata": {},
   "outputs": [
    {
     "name": "stdout",
     "output_type": "stream",
     "text": [
      "[0.68196903 0.68141593 0.68832965 0.67643805 0.68298755 0.67985612\n",
      " 0.6900083  0.6900083  0.67755328 0.67829457]\n"
     ]
    }
   ],
   "source": [
    "from sklearn import svm\n",
    "\n",
    "C = 1.0\n",
    "svc = svm.SVC(kernel='linear', C=C)\n",
    "\n",
    "cv_scores = cross_val_score(svc, X_train, y_train, cv=10)\n",
    "\n",
    "print(cv_scores)\n",
    "\n",
    "score_dict['SVM.SVC'] = cv_scores.mean()"
   ]
  },
  {
   "cell_type": "code",
   "execution_count": 25,
   "metadata": {},
   "outputs": [
    {
     "name": "stdout",
     "output_type": "stream",
     "text": [
      "0.6826860782006697\n"
     ]
    }
   ],
   "source": [
    "print (cv_scores.mean())"
   ]
  },
  {
   "cell_type": "markdown",
   "metadata": {},
   "source": [
    "## KNN\n",
    "K-Nearest-Neighbors"
   ]
  },
  {
   "cell_type": "code",
   "execution_count": 26,
   "metadata": {},
   "outputs": [
    {
     "name": "stdout",
     "output_type": "stream",
     "text": [
      "0.7693584529836501\n"
     ]
    }
   ],
   "source": [
    "from sklearn.neighbors import KNeighborsClassifier\n",
    "neigh = KNeighborsClassifier(n_neighbors=10)\n",
    "neigh.fit(X_train, y_train)\n",
    "\n",
    "print(neigh.score(X_test, y_test))"
   ]
  },
  {
   "cell_type": "markdown",
   "metadata": {},
   "source": [
    "Choosing K is tricky, so we can't discard KNN until we've tried different values of K. Here's a for loop to run KNN with K values ranging from 1 to 50 and see if K makes a substantial difference. "
   ]
  },
  {
   "cell_type": "code",
   "execution_count": 27,
   "metadata": {},
   "outputs": [
    {
     "name": "stdout",
     "output_type": "stream",
     "text": [
      "Best outcome: K= 11 :  0.7696904307411403\n"
     ]
    }
   ],
   "source": [
    "max_score = 0\n",
    "best_K = 1\n",
    "for K in range(1,51):\n",
    "    neigh = KNeighborsClassifier(n_neighbors=K)\n",
    "    neigh.fit(X_train, y_train)    \n",
    "    score = neigh.score(X_test, y_test)\n",
    "    if (score > max_score):\n",
    "        max_score = score\n",
    "        best_K = K\n",
    "\n",
    "print(\"Best outcome: K=\", best_K, \": \", max_score)\n",
    "score_dict['K-Nearest-Neighbors'] = max_score"
   ]
  },
  {
   "cell_type": "markdown",
   "metadata": {},
   "source": [
    "## Naive Bayes\n",
    "\n",
    "Now try naive_bayes.MultinomialNB."
   ]
  },
  {
   "cell_type": "code",
   "execution_count": 28,
   "metadata": {},
   "outputs": [
    {
     "name": "stdout",
     "output_type": "stream",
     "text": [
      "0.42667441281434143\n"
     ]
    }
   ],
   "source": [
    "from sklearn.preprocessing import MinMaxScaler\n",
    "\n",
    "scaler = MinMaxScaler()\n",
    "scaled_X_train = scaler.fit_transform(X_train)\n",
    "scaled_X_test = scaler.transform(X_test)\n",
    "\n",
    "\n",
    "from sklearn.naive_bayes import MultinomialNB\n",
    "classifier = MultinomialNB()\n",
    "\n",
    "classifier.fit(scaled_X_train, y_train)\n",
    "\n",
    "print(classifier.score(scaled_X_test, y_test))\n",
    "\n",
    "score_dict['Naive Bayes'] = classifier.score(scaled_X_test, y_test)\n"
   ]
  },
  {
   "cell_type": "markdown",
   "metadata": {},
   "source": [
    "## Revisiting SVM\n",
    "\n",
    "svm.SVC may perform differently with different kernels. Try the rbf and poly kernels and see what the best-performing kernel is."
   ]
  },
  {
   "cell_type": "code",
   "execution_count": 29,
   "metadata": {},
   "outputs": [
    {
     "name": "stdout",
     "output_type": "stream",
     "text": [
      "0.7401444103245083\n"
     ]
    }
   ],
   "source": [
    "svc = svm.SVC(C=1.0, decision_function_shape='ovo', degree=3, gamma='scale', kernel='rbf', max_iter=-1, probability=False, random_state=None, \n",
    "tol=0.001, verbose=False).fit(scaled_X_train, y_train)\n",
    "\n",
    "print(svc.score(scaled_X_test, y_test))\n",
    "\n",
    "score_dict['SVM with RBF kernel'] = svc.score(scaled_X_test, y_test)"
   ]
  },
  {
   "cell_type": "code",
   "execution_count": 30,
   "metadata": {},
   "outputs": [
    {
     "name": "stdout",
     "output_type": "stream",
     "text": [
      "0.6544941488920243\n"
     ]
    }
   ],
   "source": [
    "svc = svm.SVC(C=1.0, decision_function_shape='ovo', degree=3, gamma='scale', kernel='poly', max_iter=-1, probability=False, random_state=None, \n",
    "tol=0.001, verbose=False).fit(scaled_X_train, y_train)\n",
    "\n",
    "print(svc.score(scaled_X_test, y_test))\n",
    "score_dict['SVM with Poly kernel'] = svc.score(scaled_X_test, y_test)"
   ]
  },
  {
   "cell_type": "markdown",
   "metadata": {},
   "source": [
    "## Logistic Regression\n",
    "\n",
    "We've tried all these fancy techniques, but fundamentally this is just a binary classification problem. Try Logisitic Regression, which is a simple way to tackling this sort of thing."
   ]
  },
  {
   "cell_type": "code",
   "execution_count": 31,
   "metadata": {
    "scrolled": true
   },
   "outputs": [
    {
     "name": "stdout",
     "output_type": "stream",
     "text": [
      "0.5998838077848784\n"
     ]
    }
   ],
   "source": [
    "from sklearn.linear_model import LogisticRegression\n",
    "logistic_clf = LogisticRegression(penalty = 'l2', dual=False, C=1.0, fit_intercept=False, intercept_scaling=1, random_state=None, solver='lbfgs', max_iter=1000, multi_class='multinomial', verbose=0, warm_start=False, n_jobs=None, l1_ratio=None).fit(scaled_X_train, y_train)\n",
    "print(logistic_clf.score(scaled_X_test, y_test))    \n",
    "\n",
    "score_dict['Logistic Regression'] = logistic_clf.score(scaled_X_test, y_test)"
   ]
  },
  {
   "cell_type": "markdown",
   "metadata": {},
   "source": [
    "## Neural Networks\n",
    "Using Keras to set up a neural network"
   ]
  },
  {
   "cell_type": "markdown",
   "metadata": {},
   "source": [
    "Start with importing modules."
   ]
  },
  {
   "cell_type": "code",
   "execution_count": 32,
   "metadata": {},
   "outputs": [],
   "source": [
    "from tensorflow import keras\n",
    "from tensorflow.keras.datasets import mnist\n",
    "from tensorflow.keras.models import Sequential\n",
    "from tensorflow.keras.layers import Dense, Dropout\n",
    "from tensorflow.keras.optimizers import RMSprop"
   ]
  },
  {
   "cell_type": "markdown",
   "metadata": {},
   "source": [
    "Setting up session, configuring GPU."
   ]
  },
  {
   "cell_type": "code",
   "execution_count": 33,
   "metadata": {},
   "outputs": [],
   "source": [
    "import tensorflow as tf\n",
    "from tensorflow.keras.backend import set_session\n",
    "config = tf.ConfigProto()\n",
    "config.gpu_options.allow_growth = True  # dynamically grow the memory used on the GPU\n",
    "sess = tf.Session(config=config)\n",
    "set_session(sess)  # set this TensorFlow session as the default session for Keras"
   ]
  },
  {
   "cell_type": "markdown",
   "metadata": {},
   "source": [
    "Setting the model's layers."
   ]
  },
  {
   "cell_type": "code",
   "execution_count": 34,
   "metadata": {},
   "outputs": [
    {
     "name": "stdout",
     "output_type": "stream",
     "text": [
      "WARNING:tensorflow:From D:\\Users\\ichig\\Anaconda3\\lib\\site-packages\\tensorflow\\python\\ops\\resource_variable_ops.py:435: colocate_with (from tensorflow.python.framework.ops) is deprecated and will be removed in a future version.\n",
      "Instructions for updating:\n",
      "Colocations handled automatically by placer.\n"
     ]
    }
   ],
   "source": [
    "model = Sequential()\n",
    "model.add(Dense(7, activation='relu', input_shape=(7,)))\n",
    "model.add(Dense(7, activation='relu'))\n",
    "model.add(Dense(4, activation='softmax'))"
   ]
  },
  {
   "cell_type": "code",
   "execution_count": 35,
   "metadata": {},
   "outputs": [
    {
     "name": "stdout",
     "output_type": "stream",
     "text": [
      "_________________________________________________________________\n",
      "Layer (type)                 Output Shape              Param #   \n",
      "=================================================================\n",
      "dense (Dense)                (None, 7)                 56        \n",
      "_________________________________________________________________\n",
      "dense_1 (Dense)              (None, 7)                 56        \n",
      "_________________________________________________________________\n",
      "dense_2 (Dense)              (None, 4)                 32        \n",
      "=================================================================\n",
      "Total params: 144\n",
      "Trainable params: 144\n",
      "Non-trainable params: 0\n",
      "_________________________________________________________________\n"
     ]
    }
   ],
   "source": [
    "model.summary()"
   ]
  },
  {
   "cell_type": "markdown",
   "metadata": {},
   "source": [
    "Here we go."
   ]
  },
  {
   "cell_type": "code",
   "execution_count": 36,
   "metadata": {},
   "outputs": [],
   "source": [
    "model.compile(loss='sparse_categorical_crossentropy',\n",
    "              optimizer='Adam',\n",
    "              metrics=['accuracy'])"
   ]
  },
  {
   "cell_type": "code",
   "execution_count": 37,
   "metadata": {},
   "outputs": [
    {
     "name": "stdout",
     "output_type": "stream",
     "text": [
      "Train on 36144 samples, validate on 12049 samples\n",
      "Epoch 1/50\n",
      " - 8s - loss: 0.9511 - acc: 0.6427 - val_loss: 0.7685 - val_acc: 0.6859\n",
      "Epoch 2/50\n",
      " - 8s - loss: 0.7246 - acc: 0.7084 - val_loss: 0.6936 - val_acc: 0.7231\n",
      "Epoch 3/50\n",
      " - 8s - loss: 0.6811 - acc: 0.7231 - val_loss: 0.6566 - val_acc: 0.7276\n",
      "Epoch 4/50\n",
      " - 8s - loss: 0.6518 - acc: 0.7364 - val_loss: 0.6329 - val_acc: 0.7427\n",
      "Epoch 5/50\n",
      " - 8s - loss: 0.6338 - acc: 0.7424 - val_loss: 0.6276 - val_acc: 0.7429\n",
      "Epoch 6/50\n",
      " - 8s - loss: 0.6247 - acc: 0.7426 - val_loss: 0.6154 - val_acc: 0.7450\n",
      "Epoch 7/50\n",
      " - 8s - loss: 0.6184 - acc: 0.7426 - val_loss: 0.6103 - val_acc: 0.7517\n",
      "Epoch 8/50\n",
      " - 8s - loss: 0.6141 - acc: 0.7415 - val_loss: 0.6065 - val_acc: 0.7199\n",
      "Epoch 9/50\n",
      " - 8s - loss: 0.6102 - acc: 0.7422 - val_loss: 0.6048 - val_acc: 0.7255\n",
      "Epoch 10/50\n",
      " - 8s - loss: 0.6074 - acc: 0.7427 - val_loss: 0.5998 - val_acc: 0.7307\n",
      "Epoch 11/50\n",
      " - 8s - loss: 0.6038 - acc: 0.7426 - val_loss: 0.5981 - val_acc: 0.7426\n",
      "Epoch 12/50\n",
      " - 8s - loss: 0.6013 - acc: 0.7435 - val_loss: 0.5958 - val_acc: 0.7420\n",
      "Epoch 13/50\n",
      " - 8s - loss: 0.5985 - acc: 0.7443 - val_loss: 0.5917 - val_acc: 0.7513\n",
      "Epoch 14/50\n",
      " - 8s - loss: 0.5951 - acc: 0.7472 - val_loss: 0.5868 - val_acc: 0.7507\n",
      "Epoch 15/50\n",
      " - 8s - loss: 0.5901 - acc: 0.7526 - val_loss: 0.5843 - val_acc: 0.7589\n",
      "Epoch 16/50\n",
      " - 8s - loss: 0.5864 - acc: 0.7545 - val_loss: 0.5811 - val_acc: 0.7556\n",
      "Epoch 17/50\n",
      " - 8s - loss: 0.5833 - acc: 0.7565 - val_loss: 0.5776 - val_acc: 0.7582\n",
      "Epoch 18/50\n",
      " - 8s - loss: 0.5807 - acc: 0.7583 - val_loss: 0.5759 - val_acc: 0.7583\n",
      "Epoch 19/50\n",
      " - 8s - loss: 0.5779 - acc: 0.7579 - val_loss: 0.5725 - val_acc: 0.7548\n",
      "Epoch 20/50\n",
      " - 8s - loss: 0.5755 - acc: 0.7585 - val_loss: 0.5696 - val_acc: 0.7569\n",
      "Epoch 21/50\n",
      " - 8s - loss: 0.5730 - acc: 0.7589 - val_loss: 0.5697 - val_acc: 0.7605\n",
      "Epoch 22/50\n",
      " - 8s - loss: 0.5705 - acc: 0.7628 - val_loss: 0.5721 - val_acc: 0.7680\n",
      "Epoch 23/50\n",
      " - 8s - loss: 0.5693 - acc: 0.7613 - val_loss: 0.5663 - val_acc: 0.7555\n",
      "Epoch 24/50\n",
      " - 8s - loss: 0.5678 - acc: 0.7644 - val_loss: 0.5642 - val_acc: 0.7712\n",
      "Epoch 25/50\n",
      " - 8s - loss: 0.5661 - acc: 0.7649 - val_loss: 0.5704 - val_acc: 0.7674\n",
      "Epoch 26/50\n",
      " - 8s - loss: 0.5647 - acc: 0.7661 - val_loss: 0.5669 - val_acc: 0.7577\n",
      "Epoch 27/50\n",
      " - 8s - loss: 0.5633 - acc: 0.7666 - val_loss: 0.5614 - val_acc: 0.7630\n",
      "Epoch 28/50\n",
      " - 8s - loss: 0.5619 - acc: 0.7670 - val_loss: 0.5613 - val_acc: 0.7581\n",
      "Epoch 29/50\n",
      " - 8s - loss: 0.5596 - acc: 0.7682 - val_loss: 0.5587 - val_acc: 0.7657\n",
      "Epoch 30/50\n",
      " - 8s - loss: 0.5580 - acc: 0.7699 - val_loss: 0.5656 - val_acc: 0.7465\n",
      "Epoch 31/50\n",
      " - 8s - loss: 0.5562 - acc: 0.7694 - val_loss: 0.5584 - val_acc: 0.7667\n",
      "Epoch 32/50\n",
      " - 8s - loss: 0.5542 - acc: 0.7700 - val_loss: 0.5528 - val_acc: 0.7691\n",
      "Epoch 33/50\n",
      " - 8s - loss: 0.5527 - acc: 0.7686 - val_loss: 0.5551 - val_acc: 0.7567\n",
      "Epoch 34/50\n",
      " - 8s - loss: 0.5501 - acc: 0.7701 - val_loss: 0.5508 - val_acc: 0.7627\n",
      "Epoch 35/50\n",
      " - 8s - loss: 0.5478 - acc: 0.7703 - val_loss: 0.5482 - val_acc: 0.7715\n",
      "Epoch 36/50\n",
      " - 8s - loss: 0.5455 - acc: 0.7702 - val_loss: 0.5455 - val_acc: 0.7706\n",
      "Epoch 37/50\n",
      " - 8s - loss: 0.5439 - acc: 0.7692 - val_loss: 0.5487 - val_acc: 0.7714\n",
      "Epoch 38/50\n",
      " - 8s - loss: 0.5428 - acc: 0.7690 - val_loss: 0.5463 - val_acc: 0.7694\n",
      "Epoch 39/50\n",
      " - 8s - loss: 0.5417 - acc: 0.7684 - val_loss: 0.5432 - val_acc: 0.7721\n",
      "Epoch 40/50\n",
      " - 8s - loss: 0.5403 - acc: 0.7688 - val_loss: 0.5546 - val_acc: 0.7654\n",
      "Epoch 41/50\n",
      " - 8s - loss: 0.5393 - acc: 0.7690 - val_loss: 0.5436 - val_acc: 0.7704\n",
      "Epoch 42/50\n",
      " - 8s - loss: 0.5383 - acc: 0.7681 - val_loss: 0.5398 - val_acc: 0.7671\n",
      "Epoch 43/50\n",
      " - 8s - loss: 0.5363 - acc: 0.7681 - val_loss: 0.5397 - val_acc: 0.7705\n",
      "Epoch 44/50\n",
      " - 8s - loss: 0.5354 - acc: 0.7693 - val_loss: 0.5414 - val_acc: 0.7712\n",
      "Epoch 45/50\n",
      " - 8s - loss: 0.5349 - acc: 0.7698 - val_loss: 0.5393 - val_acc: 0.7658\n",
      "Epoch 46/50\n",
      " - 8s - loss: 0.5340 - acc: 0.7680 - val_loss: 0.5363 - val_acc: 0.7645\n",
      "Epoch 47/50\n",
      " - 8s - loss: 0.5337 - acc: 0.7687 - val_loss: 0.5418 - val_acc: 0.7655\n",
      "Epoch 48/50\n",
      " - 8s - loss: 0.5330 - acc: 0.7693 - val_loss: 0.5348 - val_acc: 0.7640\n",
      "Epoch 49/50\n",
      " - 8s - loss: 0.5314 - acc: 0.7698 - val_loss: 0.5441 - val_acc: 0.7697\n",
      "Epoch 50/50\n",
      " - 8s - loss: 0.5309 - acc: 0.7701 - val_loss: 0.5397 - val_acc: 0.7660\n"
     ]
    }
   ],
   "source": [
    "history = model.fit(scaled_X_train, y_train,\n",
    "                    batch_size=10,\n",
    "                    epochs=50,\n",
    "                    verbose=2,\n",
    "                    validation_data=(scaled_X_test, y_test))"
   ]
  },
  {
   "cell_type": "code",
   "execution_count": 40,
   "metadata": {},
   "outputs": [
    {
     "name": "stdout",
     "output_type": "stream",
     "text": [
      "Train on 36144 samples, validate on 12049 samples\n",
      "Epoch 1/50\n",
      " - 8s - loss: 0.5322 - acc: 0.7682 - val_loss: 0.5333 - val_acc: 0.7660\n",
      "Epoch 2/50\n",
      " - 7s - loss: 0.5291 - acc: 0.7697 - val_loss: 0.5365 - val_acc: 0.7674\n",
      "Epoch 3/50\n",
      " - 7s - loss: 0.5293 - acc: 0.7709 - val_loss: 0.5352 - val_acc: 0.7665\n",
      "Epoch 4/50\n",
      " - 7s - loss: 0.5282 - acc: 0.7703 - val_loss: 0.5394 - val_acc: 0.7645\n",
      "Epoch 5/50\n",
      " - 7s - loss: 0.5283 - acc: 0.7708 - val_loss: 0.5381 - val_acc: 0.7719\n",
      "Epoch 6/50\n",
      " - 7s - loss: 0.5274 - acc: 0.7709 - val_loss: 0.5384 - val_acc: 0.7667\n",
      "Epoch 7/50\n",
      " - 7s - loss: 0.5266 - acc: 0.7716 - val_loss: 0.5367 - val_acc: 0.7671\n",
      "Epoch 8/50\n",
      " - 7s - loss: 0.5281 - acc: 0.7711 - val_loss: 0.5310 - val_acc: 0.7681\n",
      "Epoch 9/50\n",
      " - 7s - loss: 0.5261 - acc: 0.7721 - val_loss: 0.5300 - val_acc: 0.7681\n",
      "Epoch 10/50\n",
      " - 7s - loss: 0.5253 - acc: 0.7730 - val_loss: 0.5337 - val_acc: 0.7763\n",
      "Epoch 11/50\n",
      " - 7s - loss: 0.5260 - acc: 0.7729 - val_loss: 0.5337 - val_acc: 0.7658\n",
      "Epoch 12/50\n",
      " - 7s - loss: 0.5256 - acc: 0.7726 - val_loss: 0.5304 - val_acc: 0.7713\n",
      "Epoch 13/50\n",
      " - 7s - loss: 0.5243 - acc: 0.7723 - val_loss: 0.5392 - val_acc: 0.7734\n",
      "Epoch 14/50\n",
      " - 7s - loss: 0.5250 - acc: 0.7730 - val_loss: 0.5347 - val_acc: 0.7736\n",
      "Epoch 15/50\n",
      " - 7s - loss: 0.5237 - acc: 0.7732 - val_loss: 0.5374 - val_acc: 0.7731\n",
      "Epoch 16/50\n",
      " - 7s - loss: 0.5246 - acc: 0.7719 - val_loss: 0.5320 - val_acc: 0.7678\n",
      "Epoch 17/50\n",
      " - 7s - loss: 0.5251 - acc: 0.7717 - val_loss: 0.5363 - val_acc: 0.7640\n",
      "Epoch 18/50\n",
      " - 7s - loss: 0.5233 - acc: 0.7742 - val_loss: 0.5334 - val_acc: 0.7668\n",
      "Epoch 19/50\n",
      " - 7s - loss: 0.5239 - acc: 0.7719 - val_loss: 0.5298 - val_acc: 0.7673\n",
      "Epoch 20/50\n",
      " - 7s - loss: 0.5239 - acc: 0.7728 - val_loss: 0.5298 - val_acc: 0.7669\n",
      "Epoch 21/50\n",
      " - 7s - loss: 0.5227 - acc: 0.7737 - val_loss: 0.5265 - val_acc: 0.7738\n",
      "Epoch 22/50\n",
      " - 7s - loss: 0.5223 - acc: 0.7742 - val_loss: 0.5314 - val_acc: 0.7693\n",
      "Epoch 23/50\n",
      " - 7s - loss: 0.5227 - acc: 0.7740 - val_loss: 0.5265 - val_acc: 0.7723\n",
      "Epoch 24/50\n",
      " - 7s - loss: 0.5224 - acc: 0.7744 - val_loss: 0.5291 - val_acc: 0.7757\n",
      "Epoch 25/50\n",
      " - 7s - loss: 0.5222 - acc: 0.7741 - val_loss: 0.5280 - val_acc: 0.7707\n",
      "Epoch 26/50\n",
      " - 7s - loss: 0.5224 - acc: 0.7743 - val_loss: 0.5352 - val_acc: 0.7635\n",
      "Epoch 27/50\n",
      " - 7s - loss: 0.5221 - acc: 0.7749 - val_loss: 0.5320 - val_acc: 0.7723\n",
      "Epoch 28/50\n",
      " - 7s - loss: 0.5207 - acc: 0.7762 - val_loss: 0.5302 - val_acc: 0.7674\n",
      "Epoch 29/50\n",
      " - 7s - loss: 0.5212 - acc: 0.7759 - val_loss: 0.5313 - val_acc: 0.7712\n",
      "Epoch 30/50\n",
      " - 7s - loss: 0.5211 - acc: 0.7751 - val_loss: 0.5263 - val_acc: 0.7738\n",
      "Epoch 31/50\n",
      " - 7s - loss: 0.5199 - acc: 0.7755 - val_loss: 0.5289 - val_acc: 0.7670\n",
      "Epoch 32/50\n",
      " - 7s - loss: 0.5205 - acc: 0.7755 - val_loss: 0.5309 - val_acc: 0.7709\n",
      "Epoch 33/50\n",
      " - 7s - loss: 0.5204 - acc: 0.7768 - val_loss: 0.5253 - val_acc: 0.7702\n",
      "Epoch 34/50\n",
      " - 7s - loss: 0.5200 - acc: 0.7765 - val_loss: 0.5267 - val_acc: 0.7704\n",
      "Epoch 35/50\n",
      " - 7s - loss: 0.5202 - acc: 0.7768 - val_loss: 0.5289 - val_acc: 0.7790\n",
      "Epoch 36/50\n",
      " - 7s - loss: 0.5195 - acc: 0.7767 - val_loss: 0.5237 - val_acc: 0.7698\n",
      "Epoch 37/50\n",
      " - 7s - loss: 0.5197 - acc: 0.7766 - val_loss: 0.5269 - val_acc: 0.7648\n",
      "Epoch 38/50\n",
      " - 7s - loss: 0.5185 - acc: 0.7773 - val_loss: 0.5278 - val_acc: 0.7776\n",
      "Epoch 39/50\n",
      " - 7s - loss: 0.5191 - acc: 0.7763 - val_loss: 0.5286 - val_acc: 0.7853\n",
      "Epoch 40/50\n",
      " - 8s - loss: 0.5189 - acc: 0.7772 - val_loss: 0.5269 - val_acc: 0.7720\n",
      "Epoch 41/50\n",
      " - 7s - loss: 0.5185 - acc: 0.7777 - val_loss: 0.5236 - val_acc: 0.7709\n",
      "Epoch 42/50\n",
      " - 7s - loss: 0.5179 - acc: 0.7776 - val_loss: 0.5229 - val_acc: 0.7735\n",
      "Epoch 43/50\n",
      " - 7s - loss: 0.5196 - acc: 0.7778 - val_loss: 0.5282 - val_acc: 0.7789\n",
      "Epoch 44/50\n",
      " - 7s - loss: 0.5180 - acc: 0.7774 - val_loss: 0.5250 - val_acc: 0.7796\n",
      "Epoch 45/50\n",
      " - 7s - loss: 0.5175 - acc: 0.7784 - val_loss: 0.5257 - val_acc: 0.7796\n",
      "Epoch 46/50\n",
      " - 7s - loss: 0.5173 - acc: 0.7799 - val_loss: 0.5266 - val_acc: 0.7744\n",
      "Epoch 47/50\n",
      " - 7s - loss: 0.5181 - acc: 0.7795 - val_loss: 0.5236 - val_acc: 0.7724\n",
      "Epoch 48/50\n",
      " - 7s - loss: 0.5170 - acc: 0.7779 - val_loss: 0.5219 - val_acc: 0.7792\n",
      "Epoch 49/50\n",
      " - 7s - loss: 0.5174 - acc: 0.7795 - val_loss: 0.5207 - val_acc: 0.7751\n",
      "Epoch 50/50\n",
      " - 8s - loss: 0.5173 - acc: 0.7787 - val_loss: 0.5240 - val_acc: 0.7692\n"
     ]
    }
   ],
   "source": [
    "history = model.fit(scaled_X_train, y_train,\n",
    "                    batch_size=10,\n",
    "                    epochs=50,\n",
    "                    verbose=2,\n",
    "                    validation_data=(scaled_X_test, y_test))"
   ]
  },
  {
   "cell_type": "code",
   "execution_count": 42,
   "metadata": {},
   "outputs": [
    {
     "name": "stdout",
     "output_type": "stream",
     "text": [
      "0.76919246\n"
     ]
    }
   ],
   "source": [
    "# evaluate the keras model\n",
    "_, accuracy = model.evaluate(scaled_X_test, y_test, verbose=0)\n",
    "\n",
    "print(accuracy)\n",
    "score_dict['Keras NN'] = accuracy"
   ]
  },
  {
   "cell_type": "markdown",
   "metadata": {},
   "source": [
    "# Results\n",
    "\n",
    "These are the results from the various models. "
   ]
  },
  {
   "cell_type": "code",
   "execution_count": 43,
   "metadata": {},
   "outputs": [
    {
     "name": "stdout",
     "output_type": "stream",
     "text": [
      "Tree Decision Classifier  :  77.14 %\n",
      "K-Fold Cross Validation  :  74.33 %\n",
      "Random Forest Classifier  :  75.69 %\n",
      "SVM.SVC  :  68.27 %\n",
      "K-Nearest-Neighbors  :  76.97 %\n",
      "Naive Bayes  :  42.67 %\n",
      "SVM with RBF kernel  :  74.01 %\n",
      "SVM with Poly kernel  :  65.45 %\n",
      "Logistic Regression  :  59.99 %\n",
      "Keras NN  :  76.92 %\n"
     ]
    }
   ],
   "source": [
    "for x in score_dict:\n",
    "    print (x, \" : \", round((score_dict[x] * 100),2), \"%\")"
   ]
  },
  {
   "cell_type": "markdown",
   "metadata": {},
   "source": [
    "### Final Remark\n",
    "\n",
    "This is my first time building an ML project using a \"raw\" dataset. \n",
    "As mentioned above, there are a few concerns with the way I am using the dataset. It could be instead:\n",
    "\n",
    "1) an hour-to-hour comparison to learn the influence of weather, holiday, and temperature on traffic.\n",
    "\n",
    "2) predicting the next hour's traffic going up or down\n",
    "\n",
    "3) put weekday / weekend as a feature\n",
    "\n",
    "Being new to this field, I can only do so much for now. I might come back to it later."
   ]
  }
 ],
 "metadata": {
  "kernelspec": {
   "display_name": "Python 3",
   "language": "python",
   "name": "python3"
  },
  "language_info": {
   "codemirror_mode": {
    "name": "ipython",
    "version": 3
   },
   "file_extension": ".py",
   "mimetype": "text/x-python",
   "name": "python",
   "nbconvert_exporter": "python",
   "pygments_lexer": "ipython3",
   "version": "3.7.3"
  }
 },
 "nbformat": 4,
 "nbformat_minor": 2
}
